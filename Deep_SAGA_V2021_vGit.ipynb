{
  "nbformat": 4,
  "nbformat_minor": 0,
  "metadata": {
    "accelerator": "GPU",
    "colab": {
      "name": "Deep_SAGA_V2021_vGit.ipynb",
      "provenance": [],
      "collapsed_sections": [],
      "include_colab_link": true
    },
    "kernelspec": {
      "display_name": "Python 3",
      "name": "python3"
    }
  },
  "cells": [
    {
      "cell_type": "markdown",
      "metadata": {
        "id": "view-in-github",
        "colab_type": "text"
      },
      "source": [
        "<a href=\"https://colab.research.google.com/github/OliDeane/Deep_SAGA/blob/master/Deep_SAGA_V2021_vGit.ipynb\" target=\"_parent\"><img src=\"https://colab.research.google.com/assets/colab-badge.svg\" alt=\"Open In Colab\"/></a>"
      ]
    },
    {
      "cell_type": "markdown",
      "metadata": {
        "id": "jZiG5TyVx23D"
      },
      "source": [
        "**Before Running:**\n",
        "\n",
        "Create a folder in Google drive named 'Gaze_Detection_System' and store the video being processed and the associated gaze data in that folder. Also in this folder should be the coco_labels.txt file, maskrcnn_predict.py and mask_rcnn_coco.h5. The folder should be made in myDrive so the path should look like this: myDrive > Gaze_Detection_System.\n",
        "\n",
        "Name the video in the correct format (e.g. pp1_s1_City_vidA.mp4). Name the gaze data in the correct format (e.g. GD_pp1_s1_City_vidA). Bare in mind that both are case sensitive. \n",
        "\n",
        "There is an example video and gaze data in the shared google drive - use this to test that the system is working - (for this, insert 1 for the pp number input box, 1 for the session number box, 'City' for the environmnet type and A for the video box.\n",
        "\n",
        "Also ensure that the GPU is activated for your Google Colab environmnet. Go to 'Runtime' > 'Change Runtime Type' > Select 'GPU' > 'Save'.\n",
        "\n",
        "**After Running:**\n",
        "\n",
        "When prompted insert the pp number, vid number, session number, environmnet type and date. \n",
        "\n",
        "The code will also ask whether you would like to check how the greenery detector is identifying green within the video. If it is the first time running the code for a given video, then it is advised that you respond 'yes' to this and follow the instructions at the 'greenery detection' section of this code.\n",
        "**bold text**\n",
        "You will also have to mount the google drive. When prompted, follow the provided link, proceeed to your google account and copy and paste the new link into the provided input box. \n",
        "\n",
        "Outputs:\n",
        "\n",
        "1) List of what is being gazed upon for each frame.\n",
        "2) Summary sheet informing on the total number of frames processed, the average number of persons and vehicles appearing in a frame and the average percentage of pixels within a frame that were tagged as green.\n",
        "3) Graph visualising what is being gazed upon for each frame.\n",
        "4) Heatmap displaying distribution of gaze\n",
        "\n",
        "\n",
        "\n"
      ]
    },
    {
      "cell_type": "code",
      "metadata": {
        "colab": {
          "base_uri": "https://localhost:8080/"
        },
        "id": "kMc6nWqjuP6V",
        "outputId": "86c9946e-e6aa-42e3-eb17-50345c8fa2cf"
      },
      "source": [
        "! git clone https://github.com/OliDeane/Deep_SAGA.git"
      ],
      "execution_count": 1,
      "outputs": [
        {
          "output_type": "stream",
          "text": [
            "Cloning into 'Deep_SAGA'...\n",
            "remote: Enumerating objects: 68, done.\u001b[K\n",
            "remote: Counting objects: 100% (68/68), done.\u001b[K\n",
            "remote: Compressing objects: 100% (48/48), done.\u001b[K\n",
            "remote: Total 68 (delta 24), reused 31 (delta 15), pack-reused 0\u001b[K\n",
            "Unpacking objects: 100% (68/68), done.\n"
          ],
          "name": "stdout"
        }
      ]
    },
    {
      "cell_type": "code",
      "metadata": {
        "id": "XzJAZbugzJaZ"
      },
      "source": [
        "!git config --global user.email \"oliver.deane@gmail.com\"\n",
        "!git config --global user.name \"OliDeane\""
      ],
      "execution_count": 2,
      "outputs": []
    },
    {
      "cell_type": "code",
      "metadata": {
        "colab": {
          "base_uri": "https://localhost:8080/"
        },
        "id": "khFS2FBz5gmu",
        "outputId": "2a31d9c1-d59a-4546-f30b-5b19ecca595d"
      },
      "source": [
        "!git push origin master"
      ],
      "execution_count": 12,
      "outputs": [
        {
          "output_type": "stream",
          "text": [
            "fatal: could not read Username for 'https://github.com': No such device or address\n"
          ],
          "name": "stdout"
        }
      ]
    },
    {
      "cell_type": "code",
      "metadata": {
        "id": "97pGJJK1LPr2",
        "colab": {
          "base_uri": "https://localhost:8080/",
          "height": 130
        },
        "outputId": "06fb12c8-007a-4bd8-c195-b77afe826647"
      },
      "source": [
        "|# Connect to Github\n",
        "\n",
        "# Mount the google drive\n",
        "from google.colab import drive\n",
        "drive.mount(\"/content/gdrive\")\n",
        "\n",
        "# Go to the project folder and clone the github repo into the project folder\n",
        "cd gdrive/My Drive/Deep_SAGA\n",
        "! git clone https://github.com/OliDeane/Deep_SAGA.git\n",
        "cd Deep_SAGA/System_Code/"
      ],
      "execution_count": null,
      "outputs": [
        {
          "output_type": "error",
          "ename": "SyntaxError",
          "evalue": "ignored",
          "traceback": [
            "\u001b[0;36m  File \u001b[0;32m\"<ipython-input-1-7feeb8f756fa>\"\u001b[0;36m, line \u001b[0;32m8\u001b[0m\n\u001b[0;31m    cd gdrive/My Drive/Deep_SAGA\u001b[0m\n\u001b[0m            ^\u001b[0m\n\u001b[0;31mSyntaxError\u001b[0m\u001b[0;31m:\u001b[0m invalid syntax\n"
          ]
        }
      ]
    },
    {
      "cell_type": "code",
      "metadata": {
        "id": "ApdpDwL-HEu-"
      },
      "source": [
        "# Import all the main packages\n",
        "\n",
        "import pandas as pd\n",
        "import numpy as np\n",
        "import colorsys\n",
        "import argparse\n",
        "import imutils\n",
        "import random\n",
        "import cv2\n",
        "import os\n",
        "import time\n",
        "from google.colab.patches import cv2_imshow\n",
        "from google.colab import files\n",
        "from PIL import Image, ImageDraw, ImageFont\n",
        "from datetime import datetime\n",
        "import io\n",
        "import pandas as pd\n",
        "import matplotlib.pyplot as plt\n",
        "import h5py\n",
        "if h5py.__version__ != '2.10.0\":\n",
        "  !pip install h5py==2.10.0\n"
      ],
      "execution_count": 1,
      "outputs": []
    },
    {
      "cell_type": "code",
      "metadata": {
        "colab": {
          "base_uri": "https://localhost:8080/"
        },
        "id": "Urm3LXYvq7Oq",
        "outputId": "25e4746a-e22a-4ea2-f844-b11e24b4c8ee"
      },
      "source": [
        "# Go to correct file location!\n",
        "# !ls\n",
        "# !cd Deep_SAGA/System_Code/\n",
        "\n",
        "\n",
        "%cd Deep_SAGA/System_Code\n"
      ],
      "execution_count": 5,
      "outputs": [
        {
          "output_type": "stream",
          "text": [
            "/content/Deep_SAGA/System_Code\n"
          ],
          "name": "stdout"
        }
      ]
    },
    {
      "cell_type": "code",
      "metadata": {
        "colab": {
          "base_uri": "https://localhost:8080/"
        },
        "id": "Ssv2W5p2GcMG",
        "outputId": "f37bd2b2-0bde-4a7a-8d49-b28ba4cf870c"
      },
      "source": [
        "%tensorflow_version 1.x\n",
        "import tensorflow as tf\n",
        "\n",
        "#Check that tensorflow is running using the GPU\n",
        "device_name = tf.test.gpu_device_name()\n",
        "if device_name != '/device:GPU:0':\n",
        "  raise SystemError('GPU device not found')\n",
        "print('Found GPU at: {}'.format(device_name))\n",
        "print(tf.__version__)\n",
        "\n",
        "# Grab the MRCNN model from github\n",
        "!pip install git+https://github.com/matterport/Mask_RCNN.git\n",
        "\n",
        "#Import the mrcnn model and all necessary accompanying files\n",
        "import mrcnn\n",
        "from mrcnn.config import Config\n",
        "from mrcnn import model as modellib\n",
        "from mrcnn import visualize"
      ],
      "execution_count": 6,
      "outputs": [
        {
          "output_type": "stream",
          "text": [
            "TensorFlow 1.x selected.\n",
            "Found GPU at: /device:GPU:0\n",
            "1.15.2\n",
            "Collecting git+https://github.com/matterport/Mask_RCNN.git\n",
            "  Cloning https://github.com/matterport/Mask_RCNN.git to /tmp/pip-req-build-hc4ux6ki\n",
            "  Running command git clone -q https://github.com/matterport/Mask_RCNN.git /tmp/pip-req-build-hc4ux6ki\n",
            "Requirement already satisfied (use --upgrade to upgrade): mask-rcnn==2.1 from git+https://github.com/matterport/Mask_RCNN.git in /usr/local/lib/python3.7/dist-packages\n",
            "Building wheels for collected packages: mask-rcnn\n",
            "  Building wheel for mask-rcnn (setup.py) ... \u001b[?25l\u001b[?25hdone\n",
            "  Created wheel for mask-rcnn: filename=mask_rcnn-2.1-cp37-none-any.whl size=56937 sha256=d9253064b876d0b2927a5d30e8e763afb4e28405ef468b5ac2210a1e0d1de207\n",
            "  Stored in directory: /tmp/pip-ephem-wheel-cache-hja055vi/wheels/c2/db/78/1af79db27d80d68b0eb94d95fda90b8b2c2f6e8862b13d5d01\n",
            "Successfully built mask-rcnn\n"
          ],
          "name": "stdout"
        },
        {
          "output_type": "stream",
          "text": [
            "Using TensorFlow backend.\n"
          ],
          "name": "stderr"
        }
      ]
    },
    {
      "cell_type": "code",
      "metadata": {
        "id": "qnLdJWdQE8zD"
      },
      "source": [
        "# # Define input and output files\n",
        "# video_filename = \"pp1_s1_City_vidA.mp4\"\n",
        "# gaze_filename = \"GD_pp1_s1_City_vidA.csv\"\n",
        "\n",
        "# # Import the model and tensorflow, checking that it is running with the GPU\n",
        "# from MRCNN_Functions import *\n",
        "# %tensorflow_version 1.x\n",
        "# import tensorflow as tf\n",
        "# check_gpu()\n",
        "\n",
        "# !pip install git+https://github.com/matterport/Mask_RCNN.git\n",
        "\n",
        "# import mrcnn\n",
        "# from mrcnn.config import Config\n",
        "# from mrcnn import model as modellib\n",
        "# from mrcnn import visualize\n",
        "\n"
      ],
      "execution_count": null,
      "outputs": []
    },
    {
      "cell_type": "code",
      "metadata": {
        "id": "auqlnZ6nw2xx",
        "cellView": "form"
      },
      "source": [
        "#@title Filename Definition - IGNORE\n",
        "# Define the names of the input and output files. \n",
        " \n",
        "# Test the Network with user input\n",
        "# p_num = int(input(\"Participant Number: \")) # CHANGED FOR ROOM VIDEO\n",
        "p_num = input(\"Participant Number: \")\n",
        "vid_num = str(input(\"Video: \"))\n",
        "sesh_num = int(input(\"Participant Session Number: \"))\n",
        "environment = str(input(\"Environment (City, Nature): \"))\n",
        "date = str(input(\"Date (e.g. 27042020): \"))\n",
        "green_check = input(\"Do you want the code to stop and allow for a greenery check (yes or no): \")\n",
        " \n",
        "# Define path to where all resources are stored in the dirive\n",
        "path = r\"/content/gdrive/My Drive/Gaze_Detection_System\"\n",
        " \n",
        " \n",
        "input_video_filename = \"pp{}_s{}_{}_vid{}.mp4\".format(p_num, sesh_num, environment, vid_num) #,date)   # 'pp4_vidA_s1_N_0308.mp4' # Name of video input\n",
        "output_video_filename = \"pp{}_vid{}_s{}_{}_{}.mp4\".format(p_num, vid_num, sesh_num, environment, date)  # 'pp4_vidA_s1_N_0308_output.mp4' # Name of video output\n",
        " \n",
        "gaze_filename = \"GD_pp{}_s{}_{}_vid{}.csv\".format(p_num, sesh_num, environment, vid_num) #, date)    # 'final_GD_pp4_vidA_s1_N_0308.csv' \n",
        " \n",
        "object_output_filename = \"mrcnn_obscores_pp{}_vid{}_s{}_{}_{}.csv\".format(p_num, vid_num, sesh_num, environment, date)         # \"mrcnn_obscores_pp4_vidA_s1_N_0308.csv\"\n",
        "GPVscores_output_filename =  \"mrcnn_GPVscores_pp{}_vid{}_s{}_{}_{}.csv\".format(p_num, vid_num, sesh_num, environment, date)                          # \"mrcnn_GPVscores_pp4_vidA_s1_N_0308.csv\"\n",
        "summary_scores_output_filename = \"mrcnn_summary_scores_pp{}_vid{}_s{}_{}_{}.csv\".format(p_num, vid_num, sesh_num, environment, date)                    # \"mrcnn_summary_scores_pp4_vidA_s1_N_0308.csv\""
      ],
      "execution_count": null,
      "outputs": []
    },
    {
      "cell_type": "code",
      "metadata": {
        "id": "vmXkboMNFaxJ",
        "cellView": "form"
      },
      "source": [
        "#@title Install tensorflow and model - can ignore\n",
        "%tensorflow_version 1.x\n",
        "import tensorflow as tf\n",
        "\n",
        "#Check that tensorflow is running using the GPU\n",
        "device_name = tf.test.gpu_device_name()\n",
        "if device_name != '/device:GPU:0':\n",
        "  raise SystemError('GPU device not found')\n",
        "print('Found GPU at: {}'.format(device_name))\n",
        "print(tf.__version__)\n",
        "\n",
        "# Grab the MRCNN model from github\n",
        "!pip install git+https://github.com/matterport/Mask_RCNN.git\n",
        "\n",
        "#Import the mrcnn model and all necessary accompanying files\n",
        "import mrcnn\n",
        "from mrcnn.config import Config\n",
        "from mrcnn import model as modellib\n",
        "from mrcnn import visualize\n"
      ],
      "execution_count": null,
      "outputs": []
    },
    {
      "cell_type": "code",
      "metadata": {
        "id": "7yOdQiGhCALs"
      },
      "source": [
        "# load in class label names\n",
        "def load_class_labels(path):\n",
        "  # load the class label names, one label per line\n",
        "  os.listdir(path)\n",
        "  CLASS_NAMES = open(os.path.join(path,\"coco_labels.txt\")).read().strip().split(\"\\n\")\n",
        "\n",
        "  # generate random (but visually distinct) colors for each class label\n",
        "  # (thanks to Matterport Mask R-CNN for the method!)\n",
        "  hsv = [(i / len(CLASS_NAMES), 1, 1.0) for i in range(len(CLASS_NAMES))]\n",
        "  COLORS = list(map(lambda c: colorsys.hsv_to_rgb(*c), hsv))\n",
        "  random.seed(42)\n",
        "  random.shuffle(COLORS)\n",
        "\n",
        "  return CLASS_NAMES, COLORS\n",
        "\n",
        "\n",
        "class SimpleConfig():\n",
        "\n",
        "\tNAME = \"coco_inference\" \n",
        "\tGPU_COUNT = 1\n",
        "\tIMAGES_PER_GPU = 1\n",
        "\tNUM_CLASSES = 81\n",
        "\n",
        "def configure_model(path, config, modellib):\n",
        "  weights_path =os.path.join(path, \"mask_rcnn_coco.h5\") \n",
        "\n",
        "  # initialize the Mask R-CNN model for inference and then load the\n",
        "  # weights\n",
        "  print(\"[INFO] loading Mask R-CNN model...\")\n",
        "  model = modellib.MaskRCNN(mode=\"inference\", config=config,\n",
        "  model_dir=os.getcwd())\n",
        "  model.load_weights(weights_path, by_name=True)\n",
        "\n",
        "\n",
        "\n"
      ],
      "execution_count": 8,
      "outputs": []
    },
    {
      "cell_type": "code",
      "metadata": {
        "colab": {
          "base_uri": "https://localhost:8080/",
          "height": 358
        },
        "id": "Okds1MTCKK8H",
        "outputId": "a05b8b83-73c2-4c4d-ab86-617172e7376d"
      },
      "source": [
        "## Load in all the necessary files for the MRCNN and initialise the network  \n",
        "\n",
        "# Get the class labels and associated colors\n",
        "path = os.getcwd()\n",
        "CLASS_NAMES, COLORS = load_class_labels(path)\n",
        "\n",
        "# initialize the inference configuration\n",
        "config = SimpleConfig()\n",
        "\n",
        "model = configure_model(path, config, modellib)"
      ],
      "execution_count": 9,
      "outputs": [
        {
          "output_type": "stream",
          "text": [
            "[INFO] loading Mask R-CNN model...\n"
          ],
          "name": "stdout"
        },
        {
          "output_type": "error",
          "ename": "AttributeError",
          "evalue": "ignored",
          "traceback": [
            "\u001b[0;31m---------------------------------------------------------------------------\u001b[0m",
            "\u001b[0;31mAttributeError\u001b[0m                            Traceback (most recent call last)",
            "\u001b[0;32m<ipython-input-9-fe573aee8afb>\u001b[0m in \u001b[0;36m<module>\u001b[0;34m()\u001b[0m\n\u001b[1;32m      8\u001b[0m \u001b[0mconfig\u001b[0m \u001b[0;34m=\u001b[0m \u001b[0mSimpleConfig\u001b[0m\u001b[0;34m(\u001b[0m\u001b[0;34m)\u001b[0m\u001b[0;34m\u001b[0m\u001b[0;34m\u001b[0m\u001b[0m\n\u001b[1;32m      9\u001b[0m \u001b[0;34m\u001b[0m\u001b[0m\n\u001b[0;32m---> 10\u001b[0;31m \u001b[0mmodel\u001b[0m \u001b[0;34m=\u001b[0m \u001b[0mconfigure_model\u001b[0m\u001b[0;34m(\u001b[0m\u001b[0mpath\u001b[0m\u001b[0;34m,\u001b[0m \u001b[0mconfig\u001b[0m\u001b[0;34m,\u001b[0m \u001b[0mmodellib\u001b[0m\u001b[0;34m)\u001b[0m\u001b[0;34m\u001b[0m\u001b[0;34m\u001b[0m\u001b[0m\n\u001b[0m",
            "\u001b[0;32m<ipython-input-8-a396fd592c4a>\u001b[0m in \u001b[0;36mconfigure_model\u001b[0;34m(path, config, modellib)\u001b[0m\n\u001b[1;32m     29\u001b[0m   \u001b[0mprint\u001b[0m\u001b[0;34m(\u001b[0m\u001b[0;34m\"[INFO] loading Mask R-CNN model...\"\u001b[0m\u001b[0;34m)\u001b[0m\u001b[0;34m\u001b[0m\u001b[0;34m\u001b[0m\u001b[0m\n\u001b[1;32m     30\u001b[0m   model = modellib.MaskRCNN(mode=\"inference\", config=config,\n\u001b[0;32m---> 31\u001b[0;31m   model_dir=os.getcwd())\n\u001b[0m\u001b[1;32m     32\u001b[0m   \u001b[0mmodel\u001b[0m\u001b[0;34m.\u001b[0m\u001b[0mload_weights\u001b[0m\u001b[0;34m(\u001b[0m\u001b[0mweights_path\u001b[0m\u001b[0;34m,\u001b[0m \u001b[0mby_name\u001b[0m\u001b[0;34m=\u001b[0m\u001b[0;32mTrue\u001b[0m\u001b[0;34m)\u001b[0m\u001b[0;34m\u001b[0m\u001b[0;34m\u001b[0m\u001b[0m\n\u001b[1;32m     33\u001b[0m \u001b[0;34m\u001b[0m\u001b[0m\n",
            "\u001b[0;32m/usr/local/lib/python3.7/dist-packages/mrcnn/model.py\u001b[0m in \u001b[0;36m__init__\u001b[0;34m(self, mode, config, model_dir)\u001b[0m\n\u001b[1;32m   1835\u001b[0m         \u001b[0mself\u001b[0m\u001b[0;34m.\u001b[0m\u001b[0mmodel_dir\u001b[0m \u001b[0;34m=\u001b[0m \u001b[0mmodel_dir\u001b[0m\u001b[0;34m\u001b[0m\u001b[0;34m\u001b[0m\u001b[0m\n\u001b[1;32m   1836\u001b[0m         \u001b[0mself\u001b[0m\u001b[0;34m.\u001b[0m\u001b[0mset_log_dir\u001b[0m\u001b[0;34m(\u001b[0m\u001b[0;34m)\u001b[0m\u001b[0;34m\u001b[0m\u001b[0;34m\u001b[0m\u001b[0m\n\u001b[0;32m-> 1837\u001b[0;31m         \u001b[0mself\u001b[0m\u001b[0;34m.\u001b[0m\u001b[0mkeras_model\u001b[0m \u001b[0;34m=\u001b[0m \u001b[0mself\u001b[0m\u001b[0;34m.\u001b[0m\u001b[0mbuild\u001b[0m\u001b[0;34m(\u001b[0m\u001b[0mmode\u001b[0m\u001b[0;34m=\u001b[0m\u001b[0mmode\u001b[0m\u001b[0;34m,\u001b[0m \u001b[0mconfig\u001b[0m\u001b[0;34m=\u001b[0m\u001b[0mconfig\u001b[0m\u001b[0;34m)\u001b[0m\u001b[0;34m\u001b[0m\u001b[0;34m\u001b[0m\u001b[0m\n\u001b[0m\u001b[1;32m   1838\u001b[0m \u001b[0;34m\u001b[0m\u001b[0m\n\u001b[1;32m   1839\u001b[0m     \u001b[0;32mdef\u001b[0m \u001b[0mbuild\u001b[0m\u001b[0;34m(\u001b[0m\u001b[0mself\u001b[0m\u001b[0;34m,\u001b[0m \u001b[0mmode\u001b[0m\u001b[0;34m,\u001b[0m \u001b[0mconfig\u001b[0m\u001b[0;34m)\u001b[0m\u001b[0;34m:\u001b[0m\u001b[0;34m\u001b[0m\u001b[0;34m\u001b[0m\u001b[0m\n",
            "\u001b[0;32m/usr/local/lib/python3.7/dist-packages/mrcnn/model.py\u001b[0m in \u001b[0;36mbuild\u001b[0;34m(self, mode, config)\u001b[0m\n\u001b[1;32m   1846\u001b[0m \u001b[0;34m\u001b[0m\u001b[0m\n\u001b[1;32m   1847\u001b[0m         \u001b[0;31m# Image size must be dividable by 2 multiple times\u001b[0m\u001b[0;34m\u001b[0m\u001b[0;34m\u001b[0m\u001b[0;34m\u001b[0m\u001b[0m\n\u001b[0;32m-> 1848\u001b[0;31m         \u001b[0mh\u001b[0m\u001b[0;34m,\u001b[0m \u001b[0mw\u001b[0m \u001b[0;34m=\u001b[0m \u001b[0mconfig\u001b[0m\u001b[0;34m.\u001b[0m\u001b[0mIMAGE_SHAPE\u001b[0m\u001b[0;34m[\u001b[0m\u001b[0;34m:\u001b[0m\u001b[0;36m2\u001b[0m\u001b[0;34m]\u001b[0m\u001b[0;34m\u001b[0m\u001b[0;34m\u001b[0m\u001b[0m\n\u001b[0m\u001b[1;32m   1849\u001b[0m         \u001b[0;32mif\u001b[0m \u001b[0mh\u001b[0m \u001b[0;34m/\u001b[0m \u001b[0;36m2\u001b[0m\u001b[0;34m**\u001b[0m\u001b[0;36m6\u001b[0m \u001b[0;34m!=\u001b[0m \u001b[0mint\u001b[0m\u001b[0;34m(\u001b[0m\u001b[0mh\u001b[0m \u001b[0;34m/\u001b[0m \u001b[0;36m2\u001b[0m\u001b[0;34m**\u001b[0m\u001b[0;36m6\u001b[0m\u001b[0;34m)\u001b[0m \u001b[0;32mor\u001b[0m \u001b[0mw\u001b[0m \u001b[0;34m/\u001b[0m \u001b[0;36m2\u001b[0m\u001b[0;34m**\u001b[0m\u001b[0;36m6\u001b[0m \u001b[0;34m!=\u001b[0m \u001b[0mint\u001b[0m\u001b[0;34m(\u001b[0m\u001b[0mw\u001b[0m \u001b[0;34m/\u001b[0m \u001b[0;36m2\u001b[0m\u001b[0;34m**\u001b[0m\u001b[0;36m6\u001b[0m\u001b[0;34m)\u001b[0m\u001b[0;34m:\u001b[0m\u001b[0;34m\u001b[0m\u001b[0;34m\u001b[0m\u001b[0m\n\u001b[1;32m   1850\u001b[0m             raise Exception(\"Image size must be dividable by 2 at least 6 times \"\n",
            "\u001b[0;31mAttributeError\u001b[0m: 'SimpleConfig' object has no attribute 'IMAGE_SHAPE'"
          ]
        }
      ]
    },
    {
      "cell_type": "code",
      "metadata": {
        "id": "Wsno4GZDDsY5"
      },
      "source": [
        "\n",
        "# Add our own class_names to the class names list\n",
        "CLASS_NAMES.append('Background')\n",
        "CLASS_NAMES.append('Greenery')\n",
        "CLASS_NAMES.append('OOB')"
      ],
      "execution_count": null,
      "outputs": []
    },
    {
      "cell_type": "markdown",
      "metadata": {
        "id": "uHlIc913YWO9"
      },
      "source": [
        "We then load in the gaze coordinates and convert into a list of integers so they can be compared to the Mask RCNN's output object coordinates"
      ]
    },
    {
      "cell_type": "code",
      "metadata": {
        "id": "hMjFhB75VFK3"
      },
      "source": [
        "raw_gaze = open(os.path.join(path, gaze_filename)).read().strip().split(\"\\n\")\n",
        "\n",
        "raw_gaze.pop(0) # remove the x and y\n",
        "GX = [round(float(pair.split(\",\")[0])) for pair in raw_gaze]\n",
        "GY = [round(float(pair.split(\",\")[1])) for pair in raw_gaze]"
      ],
      "execution_count": null,
      "outputs": []
    },
    {
      "cell_type": "markdown",
      "metadata": {
        "id": "zDS2m2CpYlNk"
      },
      "source": [
        "Load in the video footage and define where the ouput video will be saved to. We also check that the number of frames in the video matches the number of coordinates listed in the gaze data. If there are more frames than coordinates, then the eye tarcker glitched and missed some frames during recording. If this numebr is too high then the gaze coordinates will be out of sync with the mrcnn object coordinates. If the eye tracker did not drop too many (< 10) frames, then the analysis can go ahead. If not, then the data may have to be collected again. "
      ]
    },
    {
      "cell_type": "code",
      "metadata": {
        "id": "uqF4vDZTKL3y",
        "colab": {
          "base_uri": "https://localhost:8080/"
        },
        "outputId": "3849864e-cdef-46e1-fbbd-e2edd30b30d4"
      },
      "source": [
        "vid_input = os.path.join(path, input_video_filename)\n",
        "vid_output = os.path.join(path, output_video_filename)\n",
        "\n",
        "#Initialise the video stream and pointer to output video file\n",
        "vs = cv2.VideoCapture(vid_input)\n",
        "writer = None\n",
        "\n",
        "# Obtain the number of frames in the video\n",
        "\n",
        "prop = cv2.cv.CV_CAP_PROP_FRAME_COUNT if imutils.is_cv2() else cv2.CAP_PROP_FRAME_COUNT\n",
        "total = int(vs.get(prop))\n",
        "print(\"[INFO] {} total frames in video\".format(total))\n",
        "\n",
        "\n",
        "# Check that the number of frames in which the eye tracker failed to collect any data\n",
        "\n",
        "dropped_frames = total - len(GX)\n",
        "\n",
        "if dropped_frames > 0 and dropped_frames < 10:\n",
        "  [GX.append(0) for i in range(0,dropped_frames)]\n",
        "  [GY.append(0) for i in range(0,dropped_frames)]\n",
        "  print('[INFO] The eye tracker dropped {} frames. {} 0s have been added to each gaze coordinate list.'.format(dropped_frames, dropped_frames))\n",
        "\n",
        "elif dropped_frames > 10:\n",
        "   raise Exception('The number of dropped frames is too high: {}'.format(dropped_frames))\n",
        "\n",
        "else:\n",
        "  print(\"[INFO] All good. The eye tracker didn't drop any frames.\")"
      ],
      "execution_count": null,
      "outputs": [
        {
          "output_type": "stream",
          "text": [
            "[INFO] 211 total frames in video\n",
            "[INFO] All good. The eye tracker didn't drop any frames.\n"
          ],
          "name": "stdout"
        }
      ]
    },
    {
      "cell_type": "markdown",
      "metadata": {
        "id": "REkZ942GaNjk"
      },
      "source": [
        "USER ACTIONA REQUIRED\n",
        "\n",
        "If the greenery_check was sat to 'True' then the code will stop and present images of what the greenery system will output. 4 image pairs will be presented. The top image in the pair shows the original frame, the bottom image shows what the greenery mask identifies as green (white pixels = green pixels).Change the two key variables (Greenery_value_A and B) depending on whether the system is detecting too much green (e.g if detecting light/dark colours as green) or too little green. Once the greenery check is complete, change the greenery check value to FALSE and re-run the code (the ain for loop will not work if done after the greenery check without re-importing the video). Be sure to input the final greenery values when prompted in the next cell. \n",
        "\n",
        "If the greenery check is set to False, the following cell will still prompt the user to insert greenery values. Good default values are: \n",
        "\n",
        "Greenery_value_A = 50\n",
        "Greenery_Value_B = 90"
      ]
    },
    {
      "cell_type": "code",
      "metadata": {
        "id": "iVtatxO_COM-"
      },
      "source": [
        "if green_check == 'yes':\n",
        "\n",
        "  # Alter the below two values until the greenery mask image is identifying greenery in the frame image at an optimum rate\n",
        "  greenery_value_A = 80\n",
        "  greenery_value_B = 90\n",
        "  for frame_num in range(0, round(total/4)):\n",
        "    grabbed, frame = vs.read()\n",
        "    frame_list = [1, round((total/4)*0.25), round((total/4)*0.5), round((total/4)*0.75), round((total/4))]\n",
        "    if frame_num in frame_list:\n",
        "      hsv = cv2.cvtColor(frame, cv2.COLOR_BGR2HSV)\n",
        "      test_gmask = cv2.inRange(hsv,(30, greenery_value_A, 20), (greenery_value_B, 255, 255) )\n",
        "      cv2_imshow(frame)\n",
        "      cv2.waitKey(0)\n",
        "      cv2_imshow(test_gmask)"
      ],
      "execution_count": null,
      "outputs": []
    },
    {
      "cell_type": "markdown",
      "metadata": {
        "id": "cn6rnqS7aDdV"
      },
      "source": [
        "When prompted, insert the final greenery values. "
      ]
    },
    {
      "cell_type": "code",
      "metadata": {
        "id": "qqHh0aA7lW0T",
        "colab": {
          "base_uri": "https://localhost:8080/"
        },
        "outputId": "3d9fd10b-31b7-4301-ed77-12dc54db46d7"
      },
      "source": [
        "greenery_value_A = int(input('Insert final greenery value for Value A here: '))\n",
        "greenery_value_B = int(input('Insert final greenery value for Value B here: '))"
      ],
      "execution_count": null,
      "outputs": [
        {
          "output_type": "stream",
          "text": [
            "Insert final greenery value for Value A here: 80\n",
            "Insert final greenery value for Value B here: 90\n"
          ],
          "name": "stdout"
        }
      ]
    },
    {
      "cell_type": "markdown",
      "metadata": {
        "id": "Jj8_zr8Hf8GA"
      },
      "source": [
        "Below we define the functions used in the main system for loop."
      ]
    },
    {
      "cell_type": "code",
      "metadata": {
        "id": "-pKfHKeKsD8z"
      },
      "source": [
        "def draw_mrcnn_output(frame, startX, startY, endX, endY, color, label, score):\n",
        "  cv2.rectangle(frame, (startX, startY), (endX, endY), color, 2)\n",
        "  text = \"{}: {:.3f}\".format(label, score)\n",
        "  y = startY - 10 if startY - 10 > 10 else startY + 10\n",
        "  cv2.putText(frame, text, (startX, y), cv2.FONT_HERSHEY_SIMPLEX,\n",
        "    0.6, color, 2)   \n",
        "\n",
        "def apply_green_overlay(frame, gmask, greenery_score):\n",
        "    overlay = frame.copy()\n",
        "    grindex = np.where(gmask == 255) # Find the pixels that are green\n",
        "    overlay[grindex[0][:],grindex[1][:],0] = 250 # Change these pixels in the overlay - make blue value high\n",
        "    overlay[grindex[0][:],grindex[1][:],1] = 20 # Green value low\n",
        "    overlay[grindex[0][:],grindex[1][:],2] = 20 # Red value low\n",
        "    alpha = 0.6\n",
        "    cv2.addWeighted(overlay, alpha, frame, 1-alpha, 0 , frame)\n",
        "\n",
        "    if len(grindex[0][:]):\n",
        "      temp_greenery_score = (len(grindex[0][:]) / (720*1280)) * 100\n",
        "      greenery_score.append(temp_greenery_score) #  This stores the percentage of the given frame that was identified as green. \n",
        "\n",
        "    return greenery_score\n",
        "\n",
        " \n",
        "def identify_inframe_objects(GY, GX, count, mask, inframe_gaze_checklist, confidence_list, inframe_object_loc_X,\\\n",
        "                          inframe_object_loc_Y, startX, startY):\n",
        " \n",
        "\n",
        "  if GY[count] > 0 and GY[count] < 720 and GX[count] > 0 and GX[count] < 1280: # If the gaze fell within the headview camera's boundaries\n",
        "    if mask[GY[count],GX[count]]: # == True:\n",
        "      #label_winner = classID\n",
        "      inframe_gaze_checklist.append(CLASS_NAMES[classID]) # inframe_gaze_checklist is the objects appearing in the given frame\n",
        "      confidence_list.append(2)\n",
        "      inframe_object_loc_X.append(startX)\n",
        "      inframe_object_loc_Y.append(startY)\n",
        "\n",
        "    else:\n",
        "      #label_winner = 'Background'\n",
        "      inframe_gaze_checklist.append(0)\n",
        "      confidence_list.append(0)\n",
        "      inframe_object_loc_X.append(0)\n",
        "      inframe_object_loc_Y.append(0)\n",
        "      \n",
        "  else: # If gaze did not fall within the head view camera boundaries then add 'outofbounds' to the gazed_upon_object_list list\n",
        "    label_winner = 'Out Of Bounds'\n",
        "    inframe_gaze_checklist.append('OOB')\n",
        "    confidence_list.append(0)\n",
        "    inframe_object_loc_X.append(0)\n",
        "    inframe_object_loc_Y.append(0)\n",
        "\n",
        "  return inframe_gaze_checklist, confidence_list, inframe_object_loc_X, inframe_object_loc_Y\n",
        "\n",
        "\n",
        "def get_gazed_upon_object(inframe_gaze_checklist, confidence_list, inframe_object_loc_X, inframe_object_loc_Y, gazed_upon_object_list, confidence, gmask):\n",
        "\n",
        "  gazed_upon_index = [i for i, e in enumerate(inframe_gaze_checklist) if e != 0] # gazed_upon_index is the index of the winning classID (if there is one)\n",
        "\n",
        "\n",
        "  if len(gazed_upon_index) > 0: # If there is a single winning object then add the winner to the gazed_upon_object_list list    \n",
        "    new_champ = inframe_gaze_checklist[gazed_upon_index[0]]  \n",
        "    current_startX = inframe_object_loc_X[gazed_upon_index[0]] # This defines the current location of the gazed upon object\n",
        "    current_startY = inframe_object_loc_Y[gazed_upon_index[0]]\n",
        "    \n",
        "    if new_champ == 59: # if it's a potted plant, then mark as green\n",
        "      gazed_upon_object_list.append('Greenery')\n",
        "    else: # If the recognised object is not a potted plant, then add that classID to the gazed_upon_object_list list\n",
        "      gazed_upon_object_list.append(new_champ)\n",
        "\n",
        "  elif len(gazed_upon_index) == 0: # If no winning object was found, then check if green is being looked at\n",
        "    \n",
        "    if GY[count] > 0 and GY[count] < 720 and GX[count] > 0 and GX[count] < 1280: # If the gaze fell within the headview camera's boundaries \n",
        "      if gmask[GY[count],GX[count]] == 255: # If the gaze coords falls on a green area (The mask is flipped - so is GY,GX)\n",
        "        new_champ = 'Greenery'\n",
        "        gazed_upon_object_list.append('Greenery') # 82 is greenery\n",
        "        confidence.append(0)\n",
        "        \n",
        "      elif gmask[GY[count],GX[count]] == 0:\n",
        "        new_champ = 'Background'\n",
        "        gazed_upon_object_list.append('Background')\n",
        "        confidence.append(0)\n",
        "\n",
        "    else:\n",
        "      new_champ = 'OOB'\n",
        "\n",
        "  return gazed_upon_object_list, confidence, new_champ\n",
        "\n",
        "\n",
        "def overlay_label(CLASS_NAMES, new_champ, frame):\n",
        "  # Draw the Text on top\n",
        "  font = cv2.FONT_HERSHEY_SIMPLEX \n",
        "  org = (50, 50)       \n",
        "  fontScale = 2      \n",
        "  color = (0, 0, 255)  # Red     \n",
        "  thickness = 2      \n",
        "  # winner_label = CLASS_NAMES[new_champ] # text to draw\n",
        "  image = cv2.putText(frame, new_champ, org, font,  \n",
        "                    fontScale, color, thickness, cv2.LINE_AA) \n",
        "  return image\n",
        "\n",
        "\n",
        "def overlay_gaze_cursor(GX, GY, count, frame):\n",
        "  center_coordinates = (GX[count], GY[count]) \n",
        "  radius = 30 \n",
        "  color = (0, 0, 255) \n",
        "  thickness = -1\n",
        "    \n",
        "  # Using cv2.circle() method \n",
        "  # Draw a circle of red color of thickness -1 px \n",
        "  image = cv2.circle(frame, center_coordinates, radius, color, thickness) \n",
        "  return image\n",
        "\n",
        "def print_user_info(count, total):\n",
        "  if count == 8:\n",
        "    elap = (end - start)\n",
        "    print(\"[INFO] single frame took {:.4f} seconds\".format(elap))\n",
        "    print(\"[INFO] estimated total time to finish: {:.4f}\".format((elap * (total/4))))    \n",
        "  elif count == round(total/8): #round(quartal/2):\n",
        "    print(\"[INFO] Halfway!\")\n"
      ],
      "execution_count": null,
      "outputs": []
    },
    {
      "cell_type": "markdown",
      "metadata": {
        "id": "KDPr-rnvJD7G"
      },
      "source": [
        "Below are the functions for grphing the data. First for the graph showing what is gazed upon for each frame of footage, then for the heatmap"
      ]
    },
    {
      "cell_type": "code",
      "metadata": {
        "id": "RfTBgr2h7JB3"
      },
      "source": [
        "# Generate the graphs\n",
        "# First normalise data to make it a normal list\n",
        "def normalise_data(data):\n",
        "  data_set_edit = []\n",
        "  for i in range(0,len(data)):\n",
        "    data_set_edit.append(data[i])# [0])\n",
        "  return data_set_edit\n",
        "\n",
        "def prepare_for_graphing(data_set, unique_cats): # Prepare data for graphing\n",
        "  unique_cats_2 = unique_cats\n",
        "  data_set_2 = data_set\n",
        "  graph_list = []\n",
        "  for category in unique_cats:\n",
        "    graph_list.append([i for i, e in enumerate(data_set) if e == category])\n",
        "\n",
        "\n",
        "  GU_object_graphing_dict = {}\n",
        "  for i in range(0,len(unique_cats)):\n",
        "    GU_object_graphing_dict.update( {unique_cats[i]: get_broken_bar_list(graph_list[i])} )\n",
        "    \n",
        "  return GU_object_graphing_dict\n",
        "\n",
        "# Function to get final list for the broken bar chart\n",
        "def get_broken_bar_list(gaze_object_list):\n",
        "  output_list = []\n",
        "  for i in gaze_object_list:\n",
        "    output_list.append((i,1))\n",
        "\n",
        "  return output_list\n",
        "\n",
        "def generate_graph(GU_object_graphing_dict, unique_cats, system_data, ax):\n",
        "\n",
        "  y_tick_labels = [] # For the Ytick Labels\n",
        "  iterations = []\n",
        "\n",
        "  color_list = ['purple', 'olive', 'brown', 'cyan', 'pink']*15\n",
        "  color_dict = {}\n",
        "  count = 0\n",
        "  # Get colour for the graphing\n",
        "  for i in unique_cats:\n",
        "    if i == 'Greenery':\n",
        "      color_dict.update( {i: 'green'} )\n",
        "    elif i == 'Person':\n",
        "      color_dict.update( {i:'red'})\n",
        "    elif i == 'Vehicle':\n",
        "      color_dict.update( {i:'orange'})\n",
        "    elif i == 'Background':\n",
        "      color_dict.update( {i:'blue'})\n",
        "    else:\n",
        "      color_dict.update( {i: color_list[count]} )\n",
        "    count += 1\n",
        "\n",
        "\n",
        "  count = 0\n",
        "  for i in GU_object_graphing_dict:\n",
        "    count += 1\n",
        "    ax.broken_barh(GU_object_graphing_dict[i], ((count*5), 5), facecolors='tab:{}'.format(color_dict[i])) \n",
        "\n",
        "    y_tick_labels.append(count*5+2.5)\n",
        "    iterations.append(count*5)\n",
        "\n",
        "\n",
        "  ax.set_ylim(5, len(unique_cats)*5+5)\n",
        "  ax.set_xlim(0, len(system_data))\n",
        "  ax.set_xlabel('Frame Number')\n",
        "  ax.set_ylabel('Gazed Upon Object')\n",
        "\n",
        "  # if title:\n",
        "  #   ax.set_title('Objects Gazed At For Each Frame Of Footage As Generated By The Novel System and The Human Coder'.format(coder_identity))\n",
        "\n",
        "  ax.set_yticks(y_tick_labels)\n",
        "  ax.set_yticklabels(unique_cats)\n",
        "  ax.grid(False)\n",
        "\n",
        "  iterations = [10,15,20,25,30] # Add in lines around bars\n",
        "  for i in iterations:\n",
        "    ax.axhline(y=i,linewidth=1, color='gray', alpha = 0.3)\n",
        "\n",
        "  return ax\n"
      ],
      "execution_count": null,
      "outputs": []
    },
    {
      "cell_type": "code",
      "metadata": {
        "id": "dqlb5wozkarH",
        "colab": {
          "base_uri": "https://localhost:8080/"
        },
        "outputId": "58b376a5-f695-49fa-8eff-fe68c4d5bf1c"
      },
      "source": [
        "# Define the lists that will be built in the following while loop\n",
        "gazed_upon_object_list = [] # List of objects that were being looked at for each frame\n",
        "confidence = [] # List saying whether the gaze is in the mask/just in the box\n",
        "green_list = []\n",
        "greenery_score = []\n",
        "persons_in_video = []\n",
        "vehicles_in_video = []\n",
        "\n",
        "\n",
        "\"\"\"\n",
        "Begin the processing for loop. This finds the coordinates and labels for each object and computes a greenery mask. \n",
        "It compares the gaze coordinates with the object coordinates/greenery mask to determine what is being looked at for each frame.\n",
        "The final frame-by-frame list is stored in the 'gazed_upon_object_list' and the 'average_persons_per_frame' and \n",
        "'average_vehicles_per_frame' are an show the average number of persons/vehicles in each frame. The average_greenery_score\n",
        "is the average percentage of pixels in each frame that were tagged as green.\n",
        "\"\"\"\n",
        "now = datetime.now() #Print the current time for timing checks\n",
        "current_time = now.strftime(\"%H:%M:%S\")\n",
        "print('[INFO] Current Time =', current_time)\n",
        "\n",
        "for count in range(0, total):\n",
        "  \n",
        "  start = time.time()\n",
        "  # read the next frame from the file\n",
        "  (grabbed, frame) = vs.read()\n",
        "  \n",
        "  if (count % 4) == 0: # We only process 1 in 4 frames (to save time). Delete this if statement to process all frames\n",
        "    hsv = cv2.cvtColor(frame, cv2.COLOR_BGR2HSV)\n",
        "    gmask = cv2.inRange(hsv,(30, greenery_value_A, 20), (greenery_value_B, 255, 255) )\n",
        "    r = model.detect([frame], verbose=0)[0] # verbose tells us whether we want to see the output or not\n",
        "\n",
        "    inframe_gaze_checklist = []\n",
        "    inframe_labels = []\n",
        "    confidence_list = []\n",
        "    inframe_object_loc_X = []\n",
        "    inframe_object_loc_Y = []\n",
        "    persons_in_frame = 0\n",
        "    vehicles_in_frame = 0\n",
        "\n",
        "    for object in range(0, r[\"rois\"].shape[0]): # Loop over class labels\n",
        "      # extract the class ID and mask for the current detection, then\n",
        "      # grab the color to visualize the mask (in BGR format)\n",
        "      classID = r[\"class_ids\"][object]\n",
        "      mask = r[\"masks\"][:, :, object]\n",
        "      color = COLORS[classID][::-1]\n",
        "\n",
        "      # visualize the pixel-wise mask of the object\n",
        "      frame = visualize.apply_mask(frame, mask, color, alpha=0.5)\n",
        "\n",
        "      # extract the bounding box information, class ID, label, predicted\n",
        "      # probability, and visualization color\n",
        "      (startY, startX, endY, endX) = r[\"rois\"][object]\n",
        "      classID = r[\"class_ids\"][object]\n",
        "      label = CLASS_NAMES[classID]\n",
        "      score = r[\"scores\"][object]\n",
        "      color = [int(c) for c in np.array(COLORS[classID]) * 255]\n",
        "      inframe_labels.append(classID)\n",
        "\n",
        "      if classID == 1: # If it's a person, add one to the person count list\n",
        "        persons_in_frame += 1\n",
        "      elif classID == 3 or classID == 4 or classID == 6 or classID == 8: # If object is a car, bus, motorbike or truck, then add that to the list\n",
        "        vehicles_in_frame +=1\n",
        "\n",
        "      draw_mrcnn_output(frame, startX, startY, endX, endY, color, label, score)\n",
        "\n",
        "      # Find labels and coords for all objects in a frame\n",
        "      inframe_gaze_checklist, confidence_list, inframe_object_loc_X, inframe_object_loc_Y = identify_inframe_objects(GY, GX, count, mask, inframe_gaze_checklist, confidence_list, inframe_object_loc_X,\\\n",
        "                          inframe_object_loc_Y, startX, startY)\n",
        "\n",
        "      # Now combine the frames together to produce the output video     \n",
        "      if writer is None:\n",
        "        fourcc = cv2.VideoWriter_fourcc(*\"MJPG\") # Initialises the video writer\n",
        "        writer = cv2.VideoWriter(vid_output, fourcc, 10,\n",
        "          (frame.shape[1], frame.shape[0]), True) # Vid output is the path to the drive folder where the output video will go  \n",
        "    \n",
        "    greenery_score = apply_green_overlay(frame, gmask, greenery_score) # Find percentage of frame that is green greenery_score and apply greenery mask to the frame\n",
        "    persons_in_video.append(persons_in_frame) # Add the v and p counts so that index 1 gives the number of people/vehicles in the first frame, same for index 2 etc....\n",
        "    vehicles_in_video.append(vehicles_in_frame)\n",
        "    \n",
        "    \n",
        "    gazed_upon_index = [i for i, e in enumerate(inframe_gaze_checklist) if e != 0] # gazed_upon_index is the index of the winning classID (if there is one)\n",
        "\n",
        "    gazed_upon_object_list, confidence, new_champ = get_gazed_upon_object(inframe_gaze_checklist, confidence_list, inframe_object_loc_X, inframe_object_loc_Y, gazed_upon_object_list, confidence, gmask)\n",
        "\n",
        "    overlay_label(CLASS_NAMES, new_champ, frame) # !!!!!! Change to not being == to image\n",
        "    overlay_gaze_cursor(GX, GY, count, frame)\n",
        "\n",
        "    end = time.time()\n",
        "    writer.write(frame)\n",
        "\n",
        "  print_user_info(count, total)\n",
        "\n",
        "# release the file pointers\n",
        "print(\"[INFO] cleaning up...\")\n",
        "writer.release()\n",
        "vs.release()\n",
        "\n",
        " "
      ],
      "execution_count": null,
      "outputs": [
        {
          "output_type": "stream",
          "text": [
            "[INFO] Current Time = 12:56:31\n",
            "WARNING:tensorflow:From /tensorflow-1.15.2/python3.7/keras/backend/tensorflow_backend.py:422: The name tf.global_variables is deprecated. Please use tf.compat.v1.global_variables instead.\n",
            "\n",
            "[INFO] single frame took 0.5438 seconds\n",
            "[INFO] estimated total time to finish: 28.6858\n",
            "[INFO] Halfway!\n",
            "[INFO] cleaning up...\n"
          ],
          "name": "stdout"
        }
      ]
    },
    {
      "cell_type": "markdown",
      "metadata": {
        "id": "la_QGtB0m0ln"
      },
      "source": [
        "Below downloads the final list showing which object is being gazed upon for each frame of footage"
      ]
    },
    {
      "cell_type": "code",
      "metadata": {
        "id": "0DnVM8HsJAmw",
        "colab": {
          "base_uri": "https://localhost:8080/",
          "height": 51
        },
        "outputId": "78b1f370-6c2e-4734-c803-55cf049d7317"
      },
      "source": [
        "average_persons_per_frame = (sum(persons_in_video)/len(persons_in_video))\n",
        "average_vehicles_per_frame = (sum(vehicles_in_video)/len(vehicles_in_video))\n",
        "average_greenery_score = (sum(greenery_score)/len(greenery_score))\n",
        "key_features_scores_list = [int(round(total/4)), average_persons_per_frame, average_vehicles_per_frame, average_greenery_score]\n",
        "\n",
        "key_feature_scores_df = pd.DataFrame(columns=['Feature', 'Score'])\n",
        "key_feature_scores_df['Feature'] = ['Num of processed frames','Persons per frame', 'Vehicles per frame', 'Greenery per frame (% of pixels)']\n",
        "key_feature_scores_df['Score'] = key_features_scores_list\n",
        "\n",
        "key_feature_scores_df.to_csv(summary_scores_output_filename, index = False)\n",
        "files.download(summary_scores_output_filename)\n",
        "\n",
        "GU_list_df = pd.DataFrame(gazed_upon_object_list) \n",
        "GU_list_df.to_csv(object_output_filename, index = False)\n",
        "files.download(object_output_filename)\n"
      ],
      "execution_count": null,
      "outputs": [
        {
          "output_type": "display_data",
          "data": {
            "application/javascript": [
              "\n",
              "    async function download(id, filename, size) {\n",
              "      if (!google.colab.kernel.accessAllowed) {\n",
              "        return;\n",
              "      }\n",
              "      const div = document.createElement('div');\n",
              "      const label = document.createElement('label');\n",
              "      label.textContent = `Downloading \"${filename}\": `;\n",
              "      div.appendChild(label);\n",
              "      const progress = document.createElement('progress');\n",
              "      progress.max = size;\n",
              "      div.appendChild(progress);\n",
              "      document.body.appendChild(div);\n",
              "\n",
              "      const buffers = [];\n",
              "      let downloaded = 0;\n",
              "\n",
              "      const channel = await google.colab.kernel.comms.open(id);\n",
              "      // Send a message to notify the kernel that we're ready.\n",
              "      channel.send({})\n",
              "\n",
              "      for await (const message of channel.messages) {\n",
              "        // Send a message to notify the kernel that we're ready.\n",
              "        channel.send({})\n",
              "        if (message.buffers) {\n",
              "          for (const buffer of message.buffers) {\n",
              "            buffers.push(buffer);\n",
              "            downloaded += buffer.byteLength;\n",
              "            progress.value = downloaded;\n",
              "          }\n",
              "        }\n",
              "      }\n",
              "      const blob = new Blob(buffers, {type: 'application/binary'});\n",
              "      const a = document.createElement('a');\n",
              "      a.href = window.URL.createObjectURL(blob);\n",
              "      a.download = filename;\n",
              "      div.appendChild(a);\n",
              "      a.click();\n",
              "      div.remove();\n",
              "    }\n",
              "  "
            ],
            "text/plain": [
              "<IPython.core.display.Javascript object>"
            ]
          },
          "metadata": {
            "tags": []
          }
        },
        {
          "output_type": "display_data",
          "data": {
            "application/javascript": [
              "download(\"download_dcc29dfd-11c9-4eb5-bc01-2b2d4ce18db1\", \"mrcnn_summary_scores_pp1_vidA_s1_City_0101.csv\", 139)"
            ],
            "text/plain": [
              "<IPython.core.display.Javascript object>"
            ]
          },
          "metadata": {
            "tags": []
          }
        },
        {
          "output_type": "display_data",
          "data": {
            "application/javascript": [
              "\n",
              "    async function download(id, filename, size) {\n",
              "      if (!google.colab.kernel.accessAllowed) {\n",
              "        return;\n",
              "      }\n",
              "      const div = document.createElement('div');\n",
              "      const label = document.createElement('label');\n",
              "      label.textContent = `Downloading \"${filename}\": `;\n",
              "      div.appendChild(label);\n",
              "      const progress = document.createElement('progress');\n",
              "      progress.max = size;\n",
              "      div.appendChild(progress);\n",
              "      document.body.appendChild(div);\n",
              "\n",
              "      const buffers = [];\n",
              "      let downloaded = 0;\n",
              "\n",
              "      const channel = await google.colab.kernel.comms.open(id);\n",
              "      // Send a message to notify the kernel that we're ready.\n",
              "      channel.send({})\n",
              "\n",
              "      for await (const message of channel.messages) {\n",
              "        // Send a message to notify the kernel that we're ready.\n",
              "        channel.send({})\n",
              "        if (message.buffers) {\n",
              "          for (const buffer of message.buffers) {\n",
              "            buffers.push(buffer);\n",
              "            downloaded += buffer.byteLength;\n",
              "            progress.value = downloaded;\n",
              "          }\n",
              "        }\n",
              "      }\n",
              "      const blob = new Blob(buffers, {type: 'application/binary'});\n",
              "      const a = document.createElement('a');\n",
              "      a.href = window.URL.createObjectURL(blob);\n",
              "      a.download = filename;\n",
              "      div.appendChild(a);\n",
              "      a.click();\n",
              "      div.remove();\n",
              "    }\n",
              "  "
            ],
            "text/plain": [
              "<IPython.core.display.Javascript object>"
            ]
          },
          "metadata": {
            "tags": []
          }
        },
        {
          "output_type": "display_data",
          "data": {
            "application/javascript": [
              "download(\"download_40d19d2b-293e-49ad-8634-55ebc98c04c9\", \"mrcnn_obscores_pp1_vidA_s1_City_0101.csv\", 361)"
            ],
            "text/plain": [
              "<IPython.core.display.Javascript object>"
            ]
          },
          "metadata": {
            "tags": []
          }
        }
      ]
    },
    {
      "cell_type": "code",
      "metadata": {
        "colab": {
          "base_uri": "https://localhost:8080/",
          "height": 242
        },
        "id": "eWL-ufTT7fKq",
        "outputId": "9092d0e7-5b7f-4f85-c429-164a5f45725d"
      },
      "source": [
        "\n",
        "normal_system_data = normalise_data(gazed_upon_object_list)\n",
        "system_unique_categories = list(set(normal_system_data)) # Lists all unique objects appearing in GU list\n",
        "GU_object_graphing_dict = prepare_for_graphing(normal_system_data, system_unique_categories)\n",
        "\n",
        "#Initiate Graph\n",
        "fig, plotter = plt.subplots(1, figsize=(8,3), sharex = True, gridspec_kw = {'hspace' : 0.05})\n",
        "plt.rc('font', family='sans serif')\n",
        "plt.rc('xtick', labelsize='x-small')\n",
        "plt.rc('ytick', labelsize='x-small')\n",
        "\n",
        "ax = generate_graph(GU_object_graphing_dict, system_unique_categories, gazed_upon_object_list, plotter)\n",
        "\n",
        "fig.savefig('Comparison_Fig_Video_{}.svg'.format(date), format='svg', dpi=1200) # , dpi=1200)\n",
        "files.download('Comparison_Fig_Video_{}.svg'.format(date))"
      ],
      "execution_count": null,
      "outputs": [
        {
          "output_type": "display_data",
          "data": {
            "application/javascript": [
              "\n",
              "    async function download(id, filename, size) {\n",
              "      if (!google.colab.kernel.accessAllowed) {\n",
              "        return;\n",
              "      }\n",
              "      const div = document.createElement('div');\n",
              "      const label = document.createElement('label');\n",
              "      label.textContent = `Downloading \"${filename}\": `;\n",
              "      div.appendChild(label);\n",
              "      const progress = document.createElement('progress');\n",
              "      progress.max = size;\n",
              "      div.appendChild(progress);\n",
              "      document.body.appendChild(div);\n",
              "\n",
              "      const buffers = [];\n",
              "      let downloaded = 0;\n",
              "\n",
              "      const channel = await google.colab.kernel.comms.open(id);\n",
              "      // Send a message to notify the kernel that we're ready.\n",
              "      channel.send({})\n",
              "\n",
              "      for await (const message of channel.messages) {\n",
              "        // Send a message to notify the kernel that we're ready.\n",
              "        channel.send({})\n",
              "        if (message.buffers) {\n",
              "          for (const buffer of message.buffers) {\n",
              "            buffers.push(buffer);\n",
              "            downloaded += buffer.byteLength;\n",
              "            progress.value = downloaded;\n",
              "          }\n",
              "        }\n",
              "      }\n",
              "      const blob = new Blob(buffers, {type: 'application/binary'});\n",
              "      const a = document.createElement('a');\n",
              "      a.href = window.URL.createObjectURL(blob);\n",
              "      a.download = filename;\n",
              "      div.appendChild(a);\n",
              "      a.click();\n",
              "      div.remove();\n",
              "    }\n",
              "  "
            ],
            "text/plain": [
              "<IPython.core.display.Javascript object>"
            ]
          },
          "metadata": {
            "tags": []
          }
        },
        {
          "output_type": "display_data",
          "data": {
            "application/javascript": [
              "download(\"download_e74052a2-ff45-4729-8c38-c6c85c5b8043\", \"Comparison_Fig_Video_0101.svg\", 38552)"
            ],
            "text/plain": [
              "<IPython.core.display.Javascript object>"
            ]
          },
          "metadata": {
            "tags": []
          }
        },
        {
          "output_type": "display_data",
          "data": {
            "image/png": "[encoded data removed]",
            "text/plain": [
              "<Figure size 576x216 with 1 Axes>"
            ]
          },
          "metadata": {
            "tags": [],
            "needs_background": "light"
          }
        }
      ]
    },
    {
      "cell_type": "markdown",
      "metadata": {
        "id": "p1Z72AoqyRTj"
      },
      "source": [
        "Below is old processing stuff. Can ignore for now. The first cell is a working basic version of the system. Above is this version add a feature that overlays the currently gazed upon item label on top. Below writes every 4 frames, so is quicker to complete. "
      ]
    },
    {
      "cell_type": "code",
      "metadata": {
        "colab": {
          "base_uri": "https://localhost:8080/",
          "height": 128
        },
        "id": "O5HfAPcPtaVY",
        "outputId": "d3697fc8-6bb8-4e40-a833-fa6f0b758cda"
      },
      "source": [
        "# It's deleting as we go so the legnth of spareGX is getting smaller so will eventually be out of range\n",
        "heatmap, xedges, yedges = np.histogram2d(GX, GY, bins=50)\n",
        "extent = [xedges[0], xedges[-1], yedges[0], yedges[-1]]\n",
        "\n",
        "#plt.clf()\n",
        "hetmap_fig = plt.imshow(heatmap.T, extent=extent, origin='lower')\n",
        "plt.title('Heat map displaying distribution of gaze')\n",
        "\n",
        "plt.savefig('heatmap_fig.pdf')\n",
        "files.download('heatmap_fig.pdf')\n",
        "\n",
        "plt.show()"
      ],
      "execution_count": null,
      "outputs": [
        {
          "output_type": "display_data",
          "data": {
            "image/png": "[encoded data removed]",
            "text/plain": [
              "<Figure size 432x288 with 1 Axes>"
            ]
          },
          "metadata": {
            "tags": []
          }
        }
      ]
    },
    {
      "cell_type": "code",
      "metadata": {
        "id": "GiA5a6gRd333"
      },
      "source": [
        ""
      ],
      "execution_count": null,
      "outputs": []
    }
  ]
}